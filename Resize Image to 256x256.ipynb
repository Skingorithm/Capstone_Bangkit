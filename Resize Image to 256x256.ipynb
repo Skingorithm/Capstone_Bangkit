{
 "cells": [
  {
   "cell_type": "code",
   "execution_count": 8,
   "metadata": {},
   "outputs": [],
   "source": [
    "from PIL import Image\n",
    "import glob\n",
    "import os"
   ]
  },
  {
   "cell_type": "code",
   "execution_count": 9,
   "metadata": {},
   "outputs": [],
   "source": [
    "image_list = []\n",
    "resized_image = []\n"
   ]
  },
  {
   "cell_type": "code",
   "execution_count": 5,
   "metadata": {},
   "outputs": [
    {
     "name": "stdout",
     "output_type": "stream",
     "text": [
      "C:/Users/DPJSIG04-PRO/Documents/capstone/project/panda/image_tif\\001_eye.PNG\n",
      "C:/Users/DPJSIG04-PRO/Documents/capstone/project/panda/image_tif\\002_eye.PNG\n",
      "C:/Users/DPJSIG04-PRO/Documents/capstone/project/panda/image_tif\\003_eye.PNG\n",
      "C:/Users/DPJSIG04-PRO/Documents/capstone/project/panda/image_tif\\004_eye.PNG\n",
      "C:/Users/DPJSIG04-PRO/Documents/capstone/project/panda/image_tif\\005_eye.PNG\n",
      "C:/Users/DPJSIG04-PRO/Documents/capstone/project/panda/image_tif\\006_eye.PNG\n",
      "C:/Users/DPJSIG04-PRO/Documents/capstone/project/panda/image_tif\\007_eye.PNG\n",
      "C:/Users/DPJSIG04-PRO/Documents/capstone/project/panda/image_tif\\008_eye.PNG\n",
      "C:/Users/DPJSIG04-PRO/Documents/capstone/project/panda/image_tif\\009_eye.PNG\n",
      "C:/Users/DPJSIG04-PRO/Documents/capstone/project/panda/image_tif\\010_eye.PNG\n",
      "C:/Users/DPJSIG04-PRO/Documents/capstone/project/panda/image_tif\\011_eye.PNG\n",
      "C:/Users/DPJSIG04-PRO/Documents/capstone/project/panda/image_tif\\012_eye.PNG\n",
      "C:/Users/DPJSIG04-PRO/Documents/capstone/project/panda/image_tif\\013_eye.PNG\n",
      "C:/Users/DPJSIG04-PRO/Documents/capstone/project/panda/image_tif\\014_eye.PNG\n",
      "C:/Users/DPJSIG04-PRO/Documents/capstone/project/panda/image_tif\\015_eye.PNG\n",
      "C:/Users/DPJSIG04-PRO/Documents/capstone/project/panda/image_tif\\016_eye.PNG\n",
      "C:/Users/DPJSIG04-PRO/Documents/capstone/project/panda/image_tif\\017_eye.PNG\n",
      "C:/Users/DPJSIG04-PRO/Documents/capstone/project/panda/image_tif\\018_eye.PNG\n",
      "C:/Users/DPJSIG04-PRO/Documents/capstone/project/panda/image_tif\\019_eye.PNG\n",
      "C:/Users/DPJSIG04-PRO/Documents/capstone/project/panda/image_tif\\020_eye.PNG\n",
      "C:/Users/DPJSIG04-PRO/Documents/capstone/project/panda/image_tif\\021_eye.PNG\n",
      "C:/Users/DPJSIG04-PRO/Documents/capstone/project/panda/image_tif\\022_eye.PNG\n",
      "C:/Users/DPJSIG04-PRO/Documents/capstone/project/panda/image_tif\\023_eye.PNG\n",
      "C:/Users/DPJSIG04-PRO/Documents/capstone/project/panda/image_tif\\024_eye.PNG\n",
      "C:/Users/DPJSIG04-PRO/Documents/capstone/project/panda/image_tif\\025_eye.PNG\n",
      "C:/Users/DPJSIG04-PRO/Documents/capstone/project/panda/image_tif\\026_eye.PNG\n",
      "C:/Users/DPJSIG04-PRO/Documents/capstone/project/panda/image_tif\\027_eye.PNG\n",
      "C:/Users/DPJSIG04-PRO/Documents/capstone/project/panda/image_tif\\028_eye.PNG\n",
      "C:/Users/DPJSIG04-PRO/Documents/capstone/project/panda/image_tif\\029_eye.PNG\n",
      "C:/Users/DPJSIG04-PRO/Documents/capstone/project/panda/image_tif\\030_eye.PNG\n",
      "C:/Users/DPJSIG04-PRO/Documents/capstone/project/panda/image_tif\\031_eye.PNG\n",
      "C:/Users/DPJSIG04-PRO/Documents/capstone/project/panda/image_tif\\032_eye.PNG\n",
      "C:/Users/DPJSIG04-PRO/Documents/capstone/project/panda/image_tif\\033_eye.PNG\n",
      "C:/Users/DPJSIG04-PRO/Documents/capstone/project/panda/image_tif\\034_eye.PNG\n",
      "C:/Users/DPJSIG04-PRO/Documents/capstone/project/panda/image_tif\\035_eye.PNG\n",
      "C:/Users/DPJSIG04-PRO/Documents/capstone/project/panda/image_tif\\036_eye.PNG\n",
      "C:/Users/DPJSIG04-PRO/Documents/capstone/project/panda/image_tif\\037_eye.PNG\n",
      "C:/Users/DPJSIG04-PRO/Documents/capstone/project/panda/image_tif\\038_eye.PNG\n",
      "C:/Users/DPJSIG04-PRO/Documents/capstone/project/panda/image_tif\\039_eye.PNG\n",
      "C:/Users/DPJSIG04-PRO/Documents/capstone/project/panda/image_tif\\040_eye.PNG\n",
      "C:/Users/DPJSIG04-PRO/Documents/capstone/project/panda/image_tif\\041_eye.PNG\n",
      "C:/Users/DPJSIG04-PRO/Documents/capstone/project/panda/image_tif\\042_eye.PNG\n",
      "C:/Users/DPJSIG04-PRO/Documents/capstone/project/panda/image_tif\\043_eye.PNG\n",
      "C:/Users/DPJSIG04-PRO/Documents/capstone/project/panda/image_tif\\044_eye.PNG\n",
      "C:/Users/DPJSIG04-PRO/Documents/capstone/project/panda/image_tif\\045_eye.PNG\n",
      "C:/Users/DPJSIG04-PRO/Documents/capstone/project/panda/image_tif\\046_eye.PNG\n"
     ]
    }
   ],
   "source": [
    "for filename in glob.glob('C:/Users/DPJSIG04-PRO/Documents/capstone/project/panda/mask/*png'):\n",
    "    print(filename)\n",
    "    img = Image.open(filename)\n",
    "    image_list.append(img)\n"
   ]
  },
  {
   "cell_type": "code",
   "execution_count": 6,
   "metadata": {},
   "outputs": [],
   "source": [
    "for image in image_list:\n",
    "    image = image.resize((256,256))\n",
    "    resized_image.append(image)"
   ]
  },
  {
   "cell_type": "code",
   "execution_count": 7,
   "metadata": {},
   "outputs": [],
   "source": [
    "for (i, new) in enumerate(resized_image):\n",
    "    new.save('{}{}{}'.format('C:/Users/DPJSIG04-PRO/Documents/capstone/project/panda/img/',i+1,'.tif'))"
   ]
  },
  {
   "cell_type": "code",
   "execution_count": null,
   "metadata": {},
   "outputs": [],
   "source": []
  },
  {
   "cell_type": "code",
   "execution_count": null,
   "metadata": {},
   "outputs": [],
   "source": []
  }
 ],
 "metadata": {
  "interpreter": {
   "hash": "11ea4d73d55668014694d489153919fd5b5b39b93d6401e332d9cf3968a6222f"
  },
  "kernelspec": {
   "display_name": "Python 3",
   "language": "python",
   "name": "python3"
  },
  "language_info": {
   "codemirror_mode": {
    "name": "ipython",
    "version": 3
   },
   "file_extension": ".py",
   "mimetype": "text/x-python",
   "name": "python",
   "nbconvert_exporter": "python",
   "pygments_lexer": "ipython3",
   "version": "3.8.8"
  }
 },
 "nbformat": 4,
 "nbformat_minor": 2
}
